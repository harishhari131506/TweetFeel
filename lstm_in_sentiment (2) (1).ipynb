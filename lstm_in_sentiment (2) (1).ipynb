{
  "nbformat": 4,
  "nbformat_minor": 0,
  "metadata": {
    "colab": {
      "name": "lstm_in_sentiment.ipynb",
      "provenance": [],
      "collapsed_sections": []
    },
    "kernelspec": {
      "name": "python3",
      "display_name": "Python 3"
    },
    "language_info": {
      "name": "python"
    },
    "accelerator": "GPU"
  },
  "cells": [
    {
      "cell_type": "code",
      "execution_count": null,
      "metadata": {
        "id": "ylhDHUi3XcBu"
      },
      "outputs": [],
      "source": [
        "import pandas as pd\n",
        "import numpy as np\n",
        "import torch.nn.functional as F\n",
        "import torchtext\n",
        "import time\n",
        "import random\n",
        "import torch\n",
        "import re\n",
        "from textblob import TextBlob\n",
        "\n",
        "torch.backends.cudnn.deterministic = True\n",
        "\n",
        "import matplotlib.pyplot as plt\n",
        "\n",
        "from keras.models import Sequential, load_model\n",
        "from keras.layers import Dense, LSTM, Embedding, Dropout\n",
        "from keras.preprocessing.text import Tokenizer\n",
        "from keras.preprocessing.sequence import pad_sequences"
      ]
    },
    {
      "cell_type": "code",
      "source": [
        "DEVICE = torch.device('cuda:1' if torch.cuda.is_available() else 'cpu')\n",
        "\n",
        "print(DEVICE)"
      ],
      "metadata": {
        "colab": {
          "base_uri": "https://localhost:8080/"
        },
        "id": "2BXS3o22XrK6",
        "outputId": "1c466c47-1eeb-4186-f38f-30e4746a7a42"
      },
      "execution_count": null,
      "outputs": [
        {
          "output_type": "stream",
          "name": "stdout",
          "text": [
            "cuda:1\n"
          ]
        }
      ]
    },
    {
      "cell_type": "code",
      "source": [
        "import torch\n",
        "torch.cuda.device_count()"
      ],
      "metadata": {
        "colab": {
          "base_uri": "https://localhost:8080/"
        },
        "id": "N071q5qcfVjU",
        "outputId": "730a580f-8497-4187-face-d52eadebad13"
      },
      "execution_count": null,
      "outputs": [
        {
          "output_type": "execute_result",
          "data": {
            "text/plain": [
              "1"
            ]
          },
          "metadata": {},
          "execution_count": 3
        }
      ]
    },
    {
      "cell_type": "code",
      "source": [
        "senti = pd.read_csv(\"/content/drive/MyDrive/MIni_Project/final_senti.csv\", index_col=False)"
      ],
      "metadata": {
        "id": "Hl2slFx4ZeZT"
      },
      "execution_count": null,
      "outputs": []
    },
    {
      "cell_type": "code",
      "source": [
        "senti.head()"
      ],
      "metadata": {
        "colab": {
          "base_uri": "https://localhost:8080/",
          "height": 441
        },
        "id": "cJUrnqvgZkkS",
        "outputId": "f57eba61-168e-4176-f720-ed2670dd910f"
      },
      "execution_count": null,
      "outputs": [
        {
          "output_type": "execute_result",
          "data": {
            "text/plain": [
              "   Unnamed: 0 user_location  \\\n",
              "0           0       Україна   \n",
              "1           1       Украина   \n",
              "2           2           NaN   \n",
              "3           3           NaN   \n",
              "4           4       Kyiv 🇺🇦   \n",
              "\n",
              "                                         description  Sentiment  \\\n",
              "0  Only truth, objectivity and breaking news from...          0   \n",
              "1  Miss Princess Ukraine 2020, Miss Supermodel Gl...          0   \n",
              "2                              Κακαβρίζω ελεύθερα...          0   \n",
              "3  Стоит коммунисту нахмуриться – он становится ф...          1   \n",
              "4  Я не русофоб. Я їх не боюся. Я їх ненавиджу. Ц...          0   \n",
              "\n",
              "   user_verified  Length  Word_counts  \\\n",
              "0          False      82            9   \n",
              "1          False     192           29   \n",
              "2          False     231           28   \n",
              "3          False     193           27   \n",
              "4          False     295           35   \n",
              "\n",
              "                                                text  \\\n",
              "0  Timothy Snyder on Tyranny and on Ukraine \\n  h...   \n",
              "1  Could Ukrainian who stole humanitarian help st...   \n",
              "2  NAZI = a member of a group advocating totalita...   \n",
              "3  Thanks to the #Putin I'm waking up because of ...   \n",
              "4  #russists destroyed the National Museum of Gri...   \n",
              "\n",
              "                                    hashtags  \\\n",
              "0                           ['WARINUKRAINE']   \n",
              "1                                        NaN   \n",
              "2                                        NaN   \n",
              "3                         ['Putin', 'Putin']   \n",
              "4  ['russists', 'Skovorodynivka', 'Kharkiv']   \n",
              "\n",
              "                                         Clean tweet  sentiment_score  \n",
              "0  timothy snyder on tyranny and on ukraine \\n  7...                1  \n",
              "1  could ukrainian who stole humanitarian help st...                1  \n",
              "2  nazi = a member of a group advocating totalita...                1  \n",
              "3  thanks to the #putin i'm waking up because of ...                5  \n",
              "4  #russists destroyed the national museum of gri...                1  "
            ],
            "text/html": [
              "\n",
              "  <div id=\"df-e605cda9-d570-488c-93ea-6c37af27e2c9\">\n",
              "    <div class=\"colab-df-container\">\n",
              "      <div>\n",
              "<style scoped>\n",
              "    .dataframe tbody tr th:only-of-type {\n",
              "        vertical-align: middle;\n",
              "    }\n",
              "\n",
              "    .dataframe tbody tr th {\n",
              "        vertical-align: top;\n",
              "    }\n",
              "\n",
              "    .dataframe thead th {\n",
              "        text-align: right;\n",
              "    }\n",
              "</style>\n",
              "<table border=\"1\" class=\"dataframe\">\n",
              "  <thead>\n",
              "    <tr style=\"text-align: right;\">\n",
              "      <th></th>\n",
              "      <th>Unnamed: 0</th>\n",
              "      <th>user_location</th>\n",
              "      <th>description</th>\n",
              "      <th>Sentiment</th>\n",
              "      <th>user_verified</th>\n",
              "      <th>Length</th>\n",
              "      <th>Word_counts</th>\n",
              "      <th>text</th>\n",
              "      <th>hashtags</th>\n",
              "      <th>Clean tweet</th>\n",
              "      <th>sentiment_score</th>\n",
              "    </tr>\n",
              "  </thead>\n",
              "  <tbody>\n",
              "    <tr>\n",
              "      <th>0</th>\n",
              "      <td>0</td>\n",
              "      <td>Україна</td>\n",
              "      <td>Only truth, objectivity and breaking news from...</td>\n",
              "      <td>0</td>\n",
              "      <td>False</td>\n",
              "      <td>82</td>\n",
              "      <td>9</td>\n",
              "      <td>Timothy Snyder on Tyranny and on Ukraine \\n  h...</td>\n",
              "      <td>['WARINUKRAINE']</td>\n",
              "      <td>timothy snyder on tyranny and on ukraine \\n  7...</td>\n",
              "      <td>1</td>\n",
              "    </tr>\n",
              "    <tr>\n",
              "      <th>1</th>\n",
              "      <td>1</td>\n",
              "      <td>Украина</td>\n",
              "      <td>Miss Princess Ukraine 2020, Miss Supermodel Gl...</td>\n",
              "      <td>0</td>\n",
              "      <td>False</td>\n",
              "      <td>192</td>\n",
              "      <td>29</td>\n",
              "      <td>Could Ukrainian who stole humanitarian help st...</td>\n",
              "      <td>NaN</td>\n",
              "      <td>could ukrainian who stole humanitarian help st...</td>\n",
              "      <td>1</td>\n",
              "    </tr>\n",
              "    <tr>\n",
              "      <th>2</th>\n",
              "      <td>2</td>\n",
              "      <td>NaN</td>\n",
              "      <td>Κακαβρίζω ελεύθερα...</td>\n",
              "      <td>0</td>\n",
              "      <td>False</td>\n",
              "      <td>231</td>\n",
              "      <td>28</td>\n",
              "      <td>NAZI = a member of a group advocating totalita...</td>\n",
              "      <td>NaN</td>\n",
              "      <td>nazi = a member of a group advocating totalita...</td>\n",
              "      <td>1</td>\n",
              "    </tr>\n",
              "    <tr>\n",
              "      <th>3</th>\n",
              "      <td>3</td>\n",
              "      <td>NaN</td>\n",
              "      <td>Стоит коммунисту нахмуриться – он становится ф...</td>\n",
              "      <td>1</td>\n",
              "      <td>False</td>\n",
              "      <td>193</td>\n",
              "      <td>27</td>\n",
              "      <td>Thanks to the #Putin I'm waking up because of ...</td>\n",
              "      <td>['Putin', 'Putin']</td>\n",
              "      <td>thanks to the #putin i'm waking up because of ...</td>\n",
              "      <td>5</td>\n",
              "    </tr>\n",
              "    <tr>\n",
              "      <th>4</th>\n",
              "      <td>4</td>\n",
              "      <td>Kyiv 🇺🇦</td>\n",
              "      <td>Я не русофоб. Я їх не боюся. Я їх ненавиджу. Ц...</td>\n",
              "      <td>0</td>\n",
              "      <td>False</td>\n",
              "      <td>295</td>\n",
              "      <td>35</td>\n",
              "      <td>#russists destroyed the National Museum of Gri...</td>\n",
              "      <td>['russists', 'Skovorodynivka', 'Kharkiv']</td>\n",
              "      <td>#russists destroyed the national museum of gri...</td>\n",
              "      <td>1</td>\n",
              "    </tr>\n",
              "  </tbody>\n",
              "</table>\n",
              "</div>\n",
              "      <button class=\"colab-df-convert\" onclick=\"convertToInteractive('df-e605cda9-d570-488c-93ea-6c37af27e2c9')\"\n",
              "              title=\"Convert this dataframe to an interactive table.\"\n",
              "              style=\"display:none;\">\n",
              "        \n",
              "  <svg xmlns=\"http://www.w3.org/2000/svg\" height=\"24px\"viewBox=\"0 0 24 24\"\n",
              "       width=\"24px\">\n",
              "    <path d=\"M0 0h24v24H0V0z\" fill=\"none\"/>\n",
              "    <path d=\"M18.56 5.44l.94 2.06.94-2.06 2.06-.94-2.06-.94-.94-2.06-.94 2.06-2.06.94zm-11 1L8.5 8.5l.94-2.06 2.06-.94-2.06-.94L8.5 2.5l-.94 2.06-2.06.94zm10 10l.94 2.06.94-2.06 2.06-.94-2.06-.94-.94-2.06-.94 2.06-2.06.94z\"/><path d=\"M17.41 7.96l-1.37-1.37c-.4-.4-.92-.59-1.43-.59-.52 0-1.04.2-1.43.59L10.3 9.45l-7.72 7.72c-.78.78-.78 2.05 0 2.83L4 21.41c.39.39.9.59 1.41.59.51 0 1.02-.2 1.41-.59l7.78-7.78 2.81-2.81c.8-.78.8-2.07 0-2.86zM5.41 20L4 18.59l7.72-7.72 1.47 1.35L5.41 20z\"/>\n",
              "  </svg>\n",
              "      </button>\n",
              "      \n",
              "  <style>\n",
              "    .colab-df-container {\n",
              "      display:flex;\n",
              "      flex-wrap:wrap;\n",
              "      gap: 12px;\n",
              "    }\n",
              "\n",
              "    .colab-df-convert {\n",
              "      background-color: #E8F0FE;\n",
              "      border: none;\n",
              "      border-radius: 50%;\n",
              "      cursor: pointer;\n",
              "      display: none;\n",
              "      fill: #1967D2;\n",
              "      height: 32px;\n",
              "      padding: 0 0 0 0;\n",
              "      width: 32px;\n",
              "    }\n",
              "\n",
              "    .colab-df-convert:hover {\n",
              "      background-color: #E2EBFA;\n",
              "      box-shadow: 0px 1px 2px rgba(60, 64, 67, 0.3), 0px 1px 3px 1px rgba(60, 64, 67, 0.15);\n",
              "      fill: #174EA6;\n",
              "    }\n",
              "\n",
              "    [theme=dark] .colab-df-convert {\n",
              "      background-color: #3B4455;\n",
              "      fill: #D2E3FC;\n",
              "    }\n",
              "\n",
              "    [theme=dark] .colab-df-convert:hover {\n",
              "      background-color: #434B5C;\n",
              "      box-shadow: 0px 1px 3px 1px rgba(0, 0, 0, 0.15);\n",
              "      filter: drop-shadow(0px 1px 2px rgba(0, 0, 0, 0.3));\n",
              "      fill: #FFFFFF;\n",
              "    }\n",
              "  </style>\n",
              "\n",
              "      <script>\n",
              "        const buttonEl =\n",
              "          document.querySelector('#df-e605cda9-d570-488c-93ea-6c37af27e2c9 button.colab-df-convert');\n",
              "        buttonEl.style.display =\n",
              "          google.colab.kernel.accessAllowed ? 'block' : 'none';\n",
              "\n",
              "        async function convertToInteractive(key) {\n",
              "          const element = document.querySelector('#df-e605cda9-d570-488c-93ea-6c37af27e2c9');\n",
              "          const dataTable =\n",
              "            await google.colab.kernel.invokeFunction('convertToInteractive',\n",
              "                                                     [key], {});\n",
              "          if (!dataTable) return;\n",
              "\n",
              "          const docLinkHtml = 'Like what you see? Visit the ' +\n",
              "            '<a target=\"_blank\" href=https://colab.research.google.com/notebooks/data_table.ipynb>data table notebook</a>'\n",
              "            + ' to learn more about interactive tables.';\n",
              "          element.innerHTML = '';\n",
              "          dataTable['output_type'] = 'display_data';\n",
              "          await google.colab.output.renderOutput(dataTable, element);\n",
              "          const docLink = document.createElement('div');\n",
              "          docLink.innerHTML = docLinkHtml;\n",
              "          element.appendChild(docLink);\n",
              "        }\n",
              "      </script>\n",
              "    </div>\n",
              "  </div>\n",
              "  "
            ]
          },
          "metadata": {},
          "execution_count": 5
        }
      ]
    },
    {
      "cell_type": "code",
      "source": [
        "data = senti.sample(frac=1).reset_index(drop=True)\n",
        "print(data.shape)\n",
        "data.head()"
      ],
      "metadata": {
        "colab": {
          "base_uri": "https://localhost:8080/",
          "height": 458
        },
        "id": "TviWrBcegQ6F",
        "outputId": "590a7876-44fd-4718-9482-2434e84d6b2c"
      },
      "execution_count": null,
      "outputs": [
        {
          "output_type": "stream",
          "name": "stdout",
          "text": [
            "(32465, 11)\n"
          ]
        },
        {
          "output_type": "execute_result",
          "data": {
            "text/plain": [
              "   Unnamed: 0              user_location  \\\n",
              "0       13304                        NaN   \n",
              "1       20929                        NaN   \n",
              "2       19165                   🇺🇸🇺🇸🇺🇸🇺🇸   \n",
              "3        7611                      India   \n",
              "4       18263  Killarney, Kerry, Ireland   \n",
              "\n",
              "                                         description  Sentiment  \\\n",
              "0                                                NaN          0   \n",
              "1  🇮🇹 expat in 🇧🇪 | Brussels bubble | EU, ITA & g...          0   \n",
              "2                                         Back again          1   \n",
              "3  One of India's largest media companies. Latest...          0   \n",
              "4  Gleneagle Group CEO, #LoveKillarney ROI inc #T...          1   \n",
              "\n",
              "   user_verified  Length  Word_counts  \\\n",
              "0          False     289           45   \n",
              "1          False     103           14   \n",
              "2          False     127           20   \n",
              "3           True     161           23   \n",
              "4          False     121           14   \n",
              "\n",
              "                                                text  \\\n",
              "0  @Karmabash This may possibly be from the War i...   \n",
              "1  #COREPER showing 🇺🇦 pins and dedicate #EuropeD...   \n",
              "2  I can’t believe #Putin would make the #Ukraine...   \n",
              "3  Singer #EltonJohn paid a visit to #Mariupol to...   \n",
              "4  Concert for #Ukraine ⁦@GlenINECArena⁩ thanks t...   \n",
              "\n",
              "                              hashtags  \\\n",
              "0                                  NaN   \n",
              "1  ['COREPER', 'EuropeDay', 'Ukraine']   \n",
              "2                 ['Putin', 'Ukraine']   \n",
              "3            ['EltonJohn', 'Mariupol']   \n",
              "4         ['Ukraine', 'IrishRedCross']   \n",
              "\n",
              "                                         Clean tweet  sentiment_score  \n",
              "0  this may possibly be from the war in donbas pr...                3  \n",
              "1  #coreper showing  pins and dedicate #europeday...                5  \n",
              "2  i can’t believe #putin would make the #ukraine...                1  \n",
              "3  singer #eltonjohn paid a visit to #mariupol to...                4  \n",
              "4  concert for #ukraine ⁦⁩ thanks to all artists ...                5  "
            ],
            "text/html": [
              "\n",
              "  <div id=\"df-e6ec161d-8815-429e-b9c7-3a222997c97c\">\n",
              "    <div class=\"colab-df-container\">\n",
              "      <div>\n",
              "<style scoped>\n",
              "    .dataframe tbody tr th:only-of-type {\n",
              "        vertical-align: middle;\n",
              "    }\n",
              "\n",
              "    .dataframe tbody tr th {\n",
              "        vertical-align: top;\n",
              "    }\n",
              "\n",
              "    .dataframe thead th {\n",
              "        text-align: right;\n",
              "    }\n",
              "</style>\n",
              "<table border=\"1\" class=\"dataframe\">\n",
              "  <thead>\n",
              "    <tr style=\"text-align: right;\">\n",
              "      <th></th>\n",
              "      <th>Unnamed: 0</th>\n",
              "      <th>user_location</th>\n",
              "      <th>description</th>\n",
              "      <th>Sentiment</th>\n",
              "      <th>user_verified</th>\n",
              "      <th>Length</th>\n",
              "      <th>Word_counts</th>\n",
              "      <th>text</th>\n",
              "      <th>hashtags</th>\n",
              "      <th>Clean tweet</th>\n",
              "      <th>sentiment_score</th>\n",
              "    </tr>\n",
              "  </thead>\n",
              "  <tbody>\n",
              "    <tr>\n",
              "      <th>0</th>\n",
              "      <td>13304</td>\n",
              "      <td>NaN</td>\n",
              "      <td>NaN</td>\n",
              "      <td>0</td>\n",
              "      <td>False</td>\n",
              "      <td>289</td>\n",
              "      <td>45</td>\n",
              "      <td>@Karmabash This may possibly be from the War i...</td>\n",
              "      <td>NaN</td>\n",
              "      <td>this may possibly be from the war in donbas pr...</td>\n",
              "      <td>3</td>\n",
              "    </tr>\n",
              "    <tr>\n",
              "      <th>1</th>\n",
              "      <td>20929</td>\n",
              "      <td>NaN</td>\n",
              "      <td>🇮🇹 expat in 🇧🇪 | Brussels bubble | EU, ITA &amp; g...</td>\n",
              "      <td>0</td>\n",
              "      <td>False</td>\n",
              "      <td>103</td>\n",
              "      <td>14</td>\n",
              "      <td>#COREPER showing 🇺🇦 pins and dedicate #EuropeD...</td>\n",
              "      <td>['COREPER', 'EuropeDay', 'Ukraine']</td>\n",
              "      <td>#coreper showing  pins and dedicate #europeday...</td>\n",
              "      <td>5</td>\n",
              "    </tr>\n",
              "    <tr>\n",
              "      <th>2</th>\n",
              "      <td>19165</td>\n",
              "      <td>🇺🇸🇺🇸🇺🇸🇺🇸</td>\n",
              "      <td>Back again</td>\n",
              "      <td>1</td>\n",
              "      <td>False</td>\n",
              "      <td>127</td>\n",
              "      <td>20</td>\n",
              "      <td>I can’t believe #Putin would make the #Ukraine...</td>\n",
              "      <td>['Putin', 'Ukraine']</td>\n",
              "      <td>i can’t believe #putin would make the #ukraine...</td>\n",
              "      <td>1</td>\n",
              "    </tr>\n",
              "    <tr>\n",
              "      <th>3</th>\n",
              "      <td>7611</td>\n",
              "      <td>India</td>\n",
              "      <td>One of India's largest media companies. Latest...</td>\n",
              "      <td>0</td>\n",
              "      <td>True</td>\n",
              "      <td>161</td>\n",
              "      <td>23</td>\n",
              "      <td>Singer #EltonJohn paid a visit to #Mariupol to...</td>\n",
              "      <td>['EltonJohn', 'Mariupol']</td>\n",
              "      <td>singer #eltonjohn paid a visit to #mariupol to...</td>\n",
              "      <td>4</td>\n",
              "    </tr>\n",
              "    <tr>\n",
              "      <th>4</th>\n",
              "      <td>18263</td>\n",
              "      <td>Killarney, Kerry, Ireland</td>\n",
              "      <td>Gleneagle Group CEO, #LoveKillarney ROI inc #T...</td>\n",
              "      <td>1</td>\n",
              "      <td>False</td>\n",
              "      <td>121</td>\n",
              "      <td>14</td>\n",
              "      <td>Concert for #Ukraine ⁦@GlenINECArena⁩ thanks t...</td>\n",
              "      <td>['Ukraine', 'IrishRedCross']</td>\n",
              "      <td>concert for #ukraine ⁦⁩ thanks to all artists ...</td>\n",
              "      <td>5</td>\n",
              "    </tr>\n",
              "  </tbody>\n",
              "</table>\n",
              "</div>\n",
              "      <button class=\"colab-df-convert\" onclick=\"convertToInteractive('df-e6ec161d-8815-429e-b9c7-3a222997c97c')\"\n",
              "              title=\"Convert this dataframe to an interactive table.\"\n",
              "              style=\"display:none;\">\n",
              "        \n",
              "  <svg xmlns=\"http://www.w3.org/2000/svg\" height=\"24px\"viewBox=\"0 0 24 24\"\n",
              "       width=\"24px\">\n",
              "    <path d=\"M0 0h24v24H0V0z\" fill=\"none\"/>\n",
              "    <path d=\"M18.56 5.44l.94 2.06.94-2.06 2.06-.94-2.06-.94-.94-2.06-.94 2.06-2.06.94zm-11 1L8.5 8.5l.94-2.06 2.06-.94-2.06-.94L8.5 2.5l-.94 2.06-2.06.94zm10 10l.94 2.06.94-2.06 2.06-.94-2.06-.94-.94-2.06-.94 2.06-2.06.94z\"/><path d=\"M17.41 7.96l-1.37-1.37c-.4-.4-.92-.59-1.43-.59-.52 0-1.04.2-1.43.59L10.3 9.45l-7.72 7.72c-.78.78-.78 2.05 0 2.83L4 21.41c.39.39.9.59 1.41.59.51 0 1.02-.2 1.41-.59l7.78-7.78 2.81-2.81c.8-.78.8-2.07 0-2.86zM5.41 20L4 18.59l7.72-7.72 1.47 1.35L5.41 20z\"/>\n",
              "  </svg>\n",
              "      </button>\n",
              "      \n",
              "  <style>\n",
              "    .colab-df-container {\n",
              "      display:flex;\n",
              "      flex-wrap:wrap;\n",
              "      gap: 12px;\n",
              "    }\n",
              "\n",
              "    .colab-df-convert {\n",
              "      background-color: #E8F0FE;\n",
              "      border: none;\n",
              "      border-radius: 50%;\n",
              "      cursor: pointer;\n",
              "      display: none;\n",
              "      fill: #1967D2;\n",
              "      height: 32px;\n",
              "      padding: 0 0 0 0;\n",
              "      width: 32px;\n",
              "    }\n",
              "\n",
              "    .colab-df-convert:hover {\n",
              "      background-color: #E2EBFA;\n",
              "      box-shadow: 0px 1px 2px rgba(60, 64, 67, 0.3), 0px 1px 3px 1px rgba(60, 64, 67, 0.15);\n",
              "      fill: #174EA6;\n",
              "    }\n",
              "\n",
              "    [theme=dark] .colab-df-convert {\n",
              "      background-color: #3B4455;\n",
              "      fill: #D2E3FC;\n",
              "    }\n",
              "\n",
              "    [theme=dark] .colab-df-convert:hover {\n",
              "      background-color: #434B5C;\n",
              "      box-shadow: 0px 1px 3px 1px rgba(0, 0, 0, 0.15);\n",
              "      filter: drop-shadow(0px 1px 2px rgba(0, 0, 0, 0.3));\n",
              "      fill: #FFFFFF;\n",
              "    }\n",
              "  </style>\n",
              "\n",
              "      <script>\n",
              "        const buttonEl =\n",
              "          document.querySelector('#df-e6ec161d-8815-429e-b9c7-3a222997c97c button.colab-df-convert');\n",
              "        buttonEl.style.display =\n",
              "          google.colab.kernel.accessAllowed ? 'block' : 'none';\n",
              "\n",
              "        async function convertToInteractive(key) {\n",
              "          const element = document.querySelector('#df-e6ec161d-8815-429e-b9c7-3a222997c97c');\n",
              "          const dataTable =\n",
              "            await google.colab.kernel.invokeFunction('convertToInteractive',\n",
              "                                                     [key], {});\n",
              "          if (!dataTable) return;\n",
              "\n",
              "          const docLinkHtml = 'Like what you see? Visit the ' +\n",
              "            '<a target=\"_blank\" href=https://colab.research.google.com/notebooks/data_table.ipynb>data table notebook</a>'\n",
              "            + ' to learn more about interactive tables.';\n",
              "          element.innerHTML = '';\n",
              "          dataTable['output_type'] = 'display_data';\n",
              "          await google.colab.output.renderOutput(dataTable, element);\n",
              "          const docLink = document.createElement('div');\n",
              "          docLink.innerHTML = docLinkHtml;\n",
              "          element.appendChild(docLink);\n",
              "        }\n",
              "      </script>\n",
              "    </div>\n",
              "  </div>\n",
              "  "
            ]
          },
          "metadata": {},
          "execution_count": 6
        }
      ]
    },
    {
      "cell_type": "code",
      "source": [
        "emoji_pattern = re.compile(\"[\"\n",
        "        u\"\\U0001F600-\\U0001F64F\"  # emoticons\n",
        "        u\"\\U0001F300-\\U0001F5FF\"  # symbols & pictographs\n",
        "        u\"\\U0001F680-\\U0001F6FF\"  # transport & map symbols\n",
        "        u\"\\U0001F1E0-\\U0001F1FF\"  # flags (iOS)\n",
        "                           \"]+\", flags=re.UNICODE)\n",
        "\n",
        "def clean_tweet(text):\n",
        "    text = str(text)\n",
        "    # Remove emojis\n",
        "    text = emoji_pattern.sub(r'', text)\n",
        "    # Remove identifications\n",
        "    text = re.sub(r'@\\w+', '', text)\n",
        "    # Remove links\n",
        "    text = re.sub(r'http.?://[^/s]+[/s]?', '', text)\n",
        "    return text.strip().lower()\n",
        "\n",
        "\n",
        "def analyze_sentiment(tweet):\n",
        "    analysis = TextBlob(clean_tweet(tweet))\n",
        "    if analysis.sentiment.polarity > 0:\n",
        "        return 'positive'\n",
        "    elif analysis.sentiment.polarity == 0:\n",
        "        return 'neutral'\n",
        "    else:\n",
        "      return 'negative'"
      ],
      "metadata": {
        "id": "V8WnSc03h2Is"
      },
      "execution_count": null,
      "outputs": []
    },
    {
      "cell_type": "code",
      "source": [
        "senti['Sentiment_text'] = senti['text'].apply(lambda x:analyze_sentiment(x))"
      ],
      "metadata": {
        "id": "h6XtsWqviXlM"
      },
      "execution_count": null,
      "outputs": []
    },
    {
      "cell_type": "code",
      "source": [
        "senti.head()"
      ],
      "metadata": {
        "colab": {
          "base_uri": "https://localhost:8080/",
          "height": 458
        },
        "id": "rlz8CJdeilJ0",
        "outputId": "251b3e8a-2bde-4643-84f6-44c617cd5938"
      },
      "execution_count": null,
      "outputs": [
        {
          "output_type": "execute_result",
          "data": {
            "text/plain": [
              "   Unnamed: 0 user_location  \\\n",
              "0           0       Україна   \n",
              "1           1       Украина   \n",
              "2           2           NaN   \n",
              "3           3           NaN   \n",
              "4           4       Kyiv 🇺🇦   \n",
              "\n",
              "                                         description  Sentiment  \\\n",
              "0  Only truth, objectivity and breaking news from...          0   \n",
              "1  Miss Princess Ukraine 2020, Miss Supermodel Gl...          0   \n",
              "2                              Κακαβρίζω ελεύθερα...          0   \n",
              "3  Стоит коммунисту нахмуриться – он становится ф...          1   \n",
              "4  Я не русофоб. Я їх не боюся. Я їх ненавиджу. Ц...          0   \n",
              "\n",
              "   user_verified  Length  Word_counts  \\\n",
              "0          False      82            9   \n",
              "1          False     192           29   \n",
              "2          False     231           28   \n",
              "3          False     193           27   \n",
              "4          False     295           35   \n",
              "\n",
              "                                                text  \\\n",
              "0  Timothy Snyder on Tyranny and on Ukraine \\n  h...   \n",
              "1  Could Ukrainian who stole humanitarian help st...   \n",
              "2  NAZI = a member of a group advocating totalita...   \n",
              "3  Thanks to the #Putin I'm waking up because of ...   \n",
              "4  #russists destroyed the National Museum of Gri...   \n",
              "\n",
              "                                    hashtags  \\\n",
              "0                           ['WARINUKRAINE']   \n",
              "1                                        NaN   \n",
              "2                                        NaN   \n",
              "3                         ['Putin', 'Putin']   \n",
              "4  ['russists', 'Skovorodynivka', 'Kharkiv']   \n",
              "\n",
              "                                         Clean tweet  sentiment_score  \\\n",
              "0  timothy snyder on tyranny and on ukraine \\n  7...                1   \n",
              "1  could ukrainian who stole humanitarian help st...                1   \n",
              "2  nazi = a member of a group advocating totalita...                1   \n",
              "3  thanks to the #putin i'm waking up because of ...                5   \n",
              "4  #russists destroyed the national museum of gri...                1   \n",
              "\n",
              "  Sentiment_text  \n",
              "0        neutral  \n",
              "1        neutral  \n",
              "2        neutral  \n",
              "3       positive  \n",
              "4       negative  "
            ],
            "text/html": [
              "\n",
              "  <div id=\"df-317c8372-aeaa-4556-b73c-1942bd8e0a7b\">\n",
              "    <div class=\"colab-df-container\">\n",
              "      <div>\n",
              "<style scoped>\n",
              "    .dataframe tbody tr th:only-of-type {\n",
              "        vertical-align: middle;\n",
              "    }\n",
              "\n",
              "    .dataframe tbody tr th {\n",
              "        vertical-align: top;\n",
              "    }\n",
              "\n",
              "    .dataframe thead th {\n",
              "        text-align: right;\n",
              "    }\n",
              "</style>\n",
              "<table border=\"1\" class=\"dataframe\">\n",
              "  <thead>\n",
              "    <tr style=\"text-align: right;\">\n",
              "      <th></th>\n",
              "      <th>Unnamed: 0</th>\n",
              "      <th>user_location</th>\n",
              "      <th>description</th>\n",
              "      <th>Sentiment</th>\n",
              "      <th>user_verified</th>\n",
              "      <th>Length</th>\n",
              "      <th>Word_counts</th>\n",
              "      <th>text</th>\n",
              "      <th>hashtags</th>\n",
              "      <th>Clean tweet</th>\n",
              "      <th>sentiment_score</th>\n",
              "      <th>Sentiment_text</th>\n",
              "    </tr>\n",
              "  </thead>\n",
              "  <tbody>\n",
              "    <tr>\n",
              "      <th>0</th>\n",
              "      <td>0</td>\n",
              "      <td>Україна</td>\n",
              "      <td>Only truth, objectivity and breaking news from...</td>\n",
              "      <td>0</td>\n",
              "      <td>False</td>\n",
              "      <td>82</td>\n",
              "      <td>9</td>\n",
              "      <td>Timothy Snyder on Tyranny and on Ukraine \\n  h...</td>\n",
              "      <td>['WARINUKRAINE']</td>\n",
              "      <td>timothy snyder on tyranny and on ukraine \\n  7...</td>\n",
              "      <td>1</td>\n",
              "      <td>neutral</td>\n",
              "    </tr>\n",
              "    <tr>\n",
              "      <th>1</th>\n",
              "      <td>1</td>\n",
              "      <td>Украина</td>\n",
              "      <td>Miss Princess Ukraine 2020, Miss Supermodel Gl...</td>\n",
              "      <td>0</td>\n",
              "      <td>False</td>\n",
              "      <td>192</td>\n",
              "      <td>29</td>\n",
              "      <td>Could Ukrainian who stole humanitarian help st...</td>\n",
              "      <td>NaN</td>\n",
              "      <td>could ukrainian who stole humanitarian help st...</td>\n",
              "      <td>1</td>\n",
              "      <td>neutral</td>\n",
              "    </tr>\n",
              "    <tr>\n",
              "      <th>2</th>\n",
              "      <td>2</td>\n",
              "      <td>NaN</td>\n",
              "      <td>Κακαβρίζω ελεύθερα...</td>\n",
              "      <td>0</td>\n",
              "      <td>False</td>\n",
              "      <td>231</td>\n",
              "      <td>28</td>\n",
              "      <td>NAZI = a member of a group advocating totalita...</td>\n",
              "      <td>NaN</td>\n",
              "      <td>nazi = a member of a group advocating totalita...</td>\n",
              "      <td>1</td>\n",
              "      <td>neutral</td>\n",
              "    </tr>\n",
              "    <tr>\n",
              "      <th>3</th>\n",
              "      <td>3</td>\n",
              "      <td>NaN</td>\n",
              "      <td>Стоит коммунисту нахмуриться – он становится ф...</td>\n",
              "      <td>1</td>\n",
              "      <td>False</td>\n",
              "      <td>193</td>\n",
              "      <td>27</td>\n",
              "      <td>Thanks to the #Putin I'm waking up because of ...</td>\n",
              "      <td>['Putin', 'Putin']</td>\n",
              "      <td>thanks to the #putin i'm waking up because of ...</td>\n",
              "      <td>5</td>\n",
              "      <td>positive</td>\n",
              "    </tr>\n",
              "    <tr>\n",
              "      <th>4</th>\n",
              "      <td>4</td>\n",
              "      <td>Kyiv 🇺🇦</td>\n",
              "      <td>Я не русофоб. Я їх не боюся. Я їх ненавиджу. Ц...</td>\n",
              "      <td>0</td>\n",
              "      <td>False</td>\n",
              "      <td>295</td>\n",
              "      <td>35</td>\n",
              "      <td>#russists destroyed the National Museum of Gri...</td>\n",
              "      <td>['russists', 'Skovorodynivka', 'Kharkiv']</td>\n",
              "      <td>#russists destroyed the national museum of gri...</td>\n",
              "      <td>1</td>\n",
              "      <td>negative</td>\n",
              "    </tr>\n",
              "  </tbody>\n",
              "</table>\n",
              "</div>\n",
              "      <button class=\"colab-df-convert\" onclick=\"convertToInteractive('df-317c8372-aeaa-4556-b73c-1942bd8e0a7b')\"\n",
              "              title=\"Convert this dataframe to an interactive table.\"\n",
              "              style=\"display:none;\">\n",
              "        \n",
              "  <svg xmlns=\"http://www.w3.org/2000/svg\" height=\"24px\"viewBox=\"0 0 24 24\"\n",
              "       width=\"24px\">\n",
              "    <path d=\"M0 0h24v24H0V0z\" fill=\"none\"/>\n",
              "    <path d=\"M18.56 5.44l.94 2.06.94-2.06 2.06-.94-2.06-.94-.94-2.06-.94 2.06-2.06.94zm-11 1L8.5 8.5l.94-2.06 2.06-.94-2.06-.94L8.5 2.5l-.94 2.06-2.06.94zm10 10l.94 2.06.94-2.06 2.06-.94-2.06-.94-.94-2.06-.94 2.06-2.06.94z\"/><path d=\"M17.41 7.96l-1.37-1.37c-.4-.4-.92-.59-1.43-.59-.52 0-1.04.2-1.43.59L10.3 9.45l-7.72 7.72c-.78.78-.78 2.05 0 2.83L4 21.41c.39.39.9.59 1.41.59.51 0 1.02-.2 1.41-.59l7.78-7.78 2.81-2.81c.8-.78.8-2.07 0-2.86zM5.41 20L4 18.59l7.72-7.72 1.47 1.35L5.41 20z\"/>\n",
              "  </svg>\n",
              "      </button>\n",
              "      \n",
              "  <style>\n",
              "    .colab-df-container {\n",
              "      display:flex;\n",
              "      flex-wrap:wrap;\n",
              "      gap: 12px;\n",
              "    }\n",
              "\n",
              "    .colab-df-convert {\n",
              "      background-color: #E8F0FE;\n",
              "      border: none;\n",
              "      border-radius: 50%;\n",
              "      cursor: pointer;\n",
              "      display: none;\n",
              "      fill: #1967D2;\n",
              "      height: 32px;\n",
              "      padding: 0 0 0 0;\n",
              "      width: 32px;\n",
              "    }\n",
              "\n",
              "    .colab-df-convert:hover {\n",
              "      background-color: #E2EBFA;\n",
              "      box-shadow: 0px 1px 2px rgba(60, 64, 67, 0.3), 0px 1px 3px 1px rgba(60, 64, 67, 0.15);\n",
              "      fill: #174EA6;\n",
              "    }\n",
              "\n",
              "    [theme=dark] .colab-df-convert {\n",
              "      background-color: #3B4455;\n",
              "      fill: #D2E3FC;\n",
              "    }\n",
              "\n",
              "    [theme=dark] .colab-df-convert:hover {\n",
              "      background-color: #434B5C;\n",
              "      box-shadow: 0px 1px 3px 1px rgba(0, 0, 0, 0.15);\n",
              "      filter: drop-shadow(0px 1px 2px rgba(0, 0, 0, 0.3));\n",
              "      fill: #FFFFFF;\n",
              "    }\n",
              "  </style>\n",
              "\n",
              "      <script>\n",
              "        const buttonEl =\n",
              "          document.querySelector('#df-317c8372-aeaa-4556-b73c-1942bd8e0a7b button.colab-df-convert');\n",
              "        buttonEl.style.display =\n",
              "          google.colab.kernel.accessAllowed ? 'block' : 'none';\n",
              "\n",
              "        async function convertToInteractive(key) {\n",
              "          const element = document.querySelector('#df-317c8372-aeaa-4556-b73c-1942bd8e0a7b');\n",
              "          const dataTable =\n",
              "            await google.colab.kernel.invokeFunction('convertToInteractive',\n",
              "                                                     [key], {});\n",
              "          if (!dataTable) return;\n",
              "\n",
              "          const docLinkHtml = 'Like what you see? Visit the ' +\n",
              "            '<a target=\"_blank\" href=https://colab.research.google.com/notebooks/data_table.ipynb>data table notebook</a>'\n",
              "            + ' to learn more about interactive tables.';\n",
              "          element.innerHTML = '';\n",
              "          dataTable['output_type'] = 'display_data';\n",
              "          await google.colab.output.renderOutput(dataTable, element);\n",
              "          const docLink = document.createElement('div');\n",
              "          docLink.innerHTML = docLinkHtml;\n",
              "          element.appendChild(docLink);\n",
              "        }\n",
              "      </script>\n",
              "    </div>\n",
              "  </div>\n",
              "  "
            ]
          },
          "metadata": {},
          "execution_count": 9
        }
      ]
    },
    {
      "cell_type": "code",
      "source": [
        "data = senti[['Sentiment_text', 'Clean tweet']]\n",
        "data.tail()"
      ],
      "metadata": {
        "colab": {
          "base_uri": "https://localhost:8080/",
          "height": 206
        },
        "id": "tcYaVknqgbq5",
        "outputId": "0f1b1d66-bc5a-42b8-96e2-66ef4151f807"
      },
      "execution_count": null,
      "outputs": [
        {
          "output_type": "execute_result",
          "data": {
            "text/plain": [
              "      Sentiment_text                                        Clean tweet\n",
              "32460        neutral  what’s up peeps #freehop #johnnyxmetgala #ukra...\n",
              "32461        neutral  on may 9, the russians will arrange a nuclear ...\n",
              "32462       positive  rim-7 sea sparrow missiles have electrolytes, ...\n",
              "32463       positive  ukraine is now getting iron dome from israel b...\n",
              "32464        neutral  erase russia from the map!   #fckptn #fckrussi..."
            ],
            "text/html": [
              "\n",
              "  <div id=\"df-eddd3b5c-d4dd-4bfc-9d3f-24fa3b891d62\">\n",
              "    <div class=\"colab-df-container\">\n",
              "      <div>\n",
              "<style scoped>\n",
              "    .dataframe tbody tr th:only-of-type {\n",
              "        vertical-align: middle;\n",
              "    }\n",
              "\n",
              "    .dataframe tbody tr th {\n",
              "        vertical-align: top;\n",
              "    }\n",
              "\n",
              "    .dataframe thead th {\n",
              "        text-align: right;\n",
              "    }\n",
              "</style>\n",
              "<table border=\"1\" class=\"dataframe\">\n",
              "  <thead>\n",
              "    <tr style=\"text-align: right;\">\n",
              "      <th></th>\n",
              "      <th>Sentiment_text</th>\n",
              "      <th>Clean tweet</th>\n",
              "    </tr>\n",
              "  </thead>\n",
              "  <tbody>\n",
              "    <tr>\n",
              "      <th>32460</th>\n",
              "      <td>neutral</td>\n",
              "      <td>what’s up peeps #freehop #johnnyxmetgala #ukra...</td>\n",
              "    </tr>\n",
              "    <tr>\n",
              "      <th>32461</th>\n",
              "      <td>neutral</td>\n",
              "      <td>on may 9, the russians will arrange a nuclear ...</td>\n",
              "    </tr>\n",
              "    <tr>\n",
              "      <th>32462</th>\n",
              "      <td>positive</td>\n",
              "      <td>rim-7 sea sparrow missiles have electrolytes, ...</td>\n",
              "    </tr>\n",
              "    <tr>\n",
              "      <th>32463</th>\n",
              "      <td>positive</td>\n",
              "      <td>ukraine is now getting iron dome from israel b...</td>\n",
              "    </tr>\n",
              "    <tr>\n",
              "      <th>32464</th>\n",
              "      <td>neutral</td>\n",
              "      <td>erase russia from the map!   #fckptn #fckrussi...</td>\n",
              "    </tr>\n",
              "  </tbody>\n",
              "</table>\n",
              "</div>\n",
              "      <button class=\"colab-df-convert\" onclick=\"convertToInteractive('df-eddd3b5c-d4dd-4bfc-9d3f-24fa3b891d62')\"\n",
              "              title=\"Convert this dataframe to an interactive table.\"\n",
              "              style=\"display:none;\">\n",
              "        \n",
              "  <svg xmlns=\"http://www.w3.org/2000/svg\" height=\"24px\"viewBox=\"0 0 24 24\"\n",
              "       width=\"24px\">\n",
              "    <path d=\"M0 0h24v24H0V0z\" fill=\"none\"/>\n",
              "    <path d=\"M18.56 5.44l.94 2.06.94-2.06 2.06-.94-2.06-.94-.94-2.06-.94 2.06-2.06.94zm-11 1L8.5 8.5l.94-2.06 2.06-.94-2.06-.94L8.5 2.5l-.94 2.06-2.06.94zm10 10l.94 2.06.94-2.06 2.06-.94-2.06-.94-.94-2.06-.94 2.06-2.06.94z\"/><path d=\"M17.41 7.96l-1.37-1.37c-.4-.4-.92-.59-1.43-.59-.52 0-1.04.2-1.43.59L10.3 9.45l-7.72 7.72c-.78.78-.78 2.05 0 2.83L4 21.41c.39.39.9.59 1.41.59.51 0 1.02-.2 1.41-.59l7.78-7.78 2.81-2.81c.8-.78.8-2.07 0-2.86zM5.41 20L4 18.59l7.72-7.72 1.47 1.35L5.41 20z\"/>\n",
              "  </svg>\n",
              "      </button>\n",
              "      \n",
              "  <style>\n",
              "    .colab-df-container {\n",
              "      display:flex;\n",
              "      flex-wrap:wrap;\n",
              "      gap: 12px;\n",
              "    }\n",
              "\n",
              "    .colab-df-convert {\n",
              "      background-color: #E8F0FE;\n",
              "      border: none;\n",
              "      border-radius: 50%;\n",
              "      cursor: pointer;\n",
              "      display: none;\n",
              "      fill: #1967D2;\n",
              "      height: 32px;\n",
              "      padding: 0 0 0 0;\n",
              "      width: 32px;\n",
              "    }\n",
              "\n",
              "    .colab-df-convert:hover {\n",
              "      background-color: #E2EBFA;\n",
              "      box-shadow: 0px 1px 2px rgba(60, 64, 67, 0.3), 0px 1px 3px 1px rgba(60, 64, 67, 0.15);\n",
              "      fill: #174EA6;\n",
              "    }\n",
              "\n",
              "    [theme=dark] .colab-df-convert {\n",
              "      background-color: #3B4455;\n",
              "      fill: #D2E3FC;\n",
              "    }\n",
              "\n",
              "    [theme=dark] .colab-df-convert:hover {\n",
              "      background-color: #434B5C;\n",
              "      box-shadow: 0px 1px 3px 1px rgba(0, 0, 0, 0.15);\n",
              "      filter: drop-shadow(0px 1px 2px rgba(0, 0, 0, 0.3));\n",
              "      fill: #FFFFFF;\n",
              "    }\n",
              "  </style>\n",
              "\n",
              "      <script>\n",
              "        const buttonEl =\n",
              "          document.querySelector('#df-eddd3b5c-d4dd-4bfc-9d3f-24fa3b891d62 button.colab-df-convert');\n",
              "        buttonEl.style.display =\n",
              "          google.colab.kernel.accessAllowed ? 'block' : 'none';\n",
              "\n",
              "        async function convertToInteractive(key) {\n",
              "          const element = document.querySelector('#df-eddd3b5c-d4dd-4bfc-9d3f-24fa3b891d62');\n",
              "          const dataTable =\n",
              "            await google.colab.kernel.invokeFunction('convertToInteractive',\n",
              "                                                     [key], {});\n",
              "          if (!dataTable) return;\n",
              "\n",
              "          const docLinkHtml = 'Like what you see? Visit the ' +\n",
              "            '<a target=\"_blank\" href=https://colab.research.google.com/notebooks/data_table.ipynb>data table notebook</a>'\n",
              "            + ' to learn more about interactive tables.';\n",
              "          element.innerHTML = '';\n",
              "          dataTable['output_type'] = 'display_data';\n",
              "          await google.colab.output.renderOutput(dataTable, element);\n",
              "          const docLink = document.createElement('div');\n",
              "          docLink.innerHTML = docLinkHtml;\n",
              "          element.appendChild(docLink);\n",
              "        }\n",
              "      </script>\n",
              "    </div>\n",
              "  </div>\n",
              "  "
            ]
          },
          "metadata": {},
          "execution_count": 10
        }
      ]
    },
    {
      "cell_type": "code",
      "source": [
        "data['Clean tweet'].apply(lambda x: x.lower()) #transform text to lowercase\n",
        "data['Clean tweet'] = data['Clean tweet'].apply(lambda x: re.sub('[^a-zA-z0-9\\s]', '', x))\n",
        "data['Clean tweet'].head()"
      ],
      "metadata": {
        "colab": {
          "base_uri": "https://localhost:8080/"
        },
        "id": "4hwYucTSg0a-",
        "outputId": "350daac9-5152-4a81-b7f2-151d055638e5"
      },
      "execution_count": null,
      "outputs": [
        {
          "output_type": "stream",
          "name": "stderr",
          "text": [
            "/usr/local/lib/python3.7/dist-packages/ipykernel_launcher.py:2: SettingWithCopyWarning: \n",
            "A value is trying to be set on a copy of a slice from a DataFrame.\n",
            "Try using .loc[row_indexer,col_indexer] = value instead\n",
            "\n",
            "See the caveats in the documentation: https://pandas.pydata.org/pandas-docs/stable/user_guide/indexing.html#returning-a-view-versus-a-copy\n",
            "  \n"
          ]
        },
        {
          "output_type": "execute_result",
          "data": {
            "text/plain": [
              "0    timothy snyder on tyranny and on ukraine \\n  7...\n",
              "1    could ukrainian who stole humanitarian help st...\n",
              "2    nazi  a member of a group advocating totalitar...\n",
              "3    thanks to the putin im waking up because of th...\n",
              "4    russists destroyed the national museum of grig...\n",
              "Name: Clean tweet, dtype: object"
            ]
          },
          "metadata": {},
          "execution_count": 11
        }
      ]
    },
    {
      "cell_type": "code",
      "source": [
        "tokenizer = Tokenizer(num_words=5000, split=\" \")\n",
        "tokenizer.fit_on_texts(data['Clean tweet'].values)\n",
        "\n",
        "X = tokenizer.texts_to_sequences(data['Clean tweet'].values)\n",
        "X = pad_sequences(X) # padding our text vector so they all have the same length\n",
        "X[:5]"
      ],
      "metadata": {
        "colab": {
          "base_uri": "https://localhost:8080/"
        },
        "id": "y1Vxbz8IhNo5",
        "outputId": "5f9f73ae-d5f4-4065-95d1-9208a00f466d"
      },
      "execution_count": null,
      "outputs": [
        {
          "output_type": "execute_result",
          "data": {
            "text/plain": [
              "array([[   0,    0,    0,    0,    0,    0,    0,    0,    0,    0,    0,\n",
              "           0,    0,    0,    0,    0,    0,    0,    0,    0,    0,    0,\n",
              "           0,    0,    0,    0,    0,    0,    0,    0,    0,    0,    0,\n",
              "           0,    0,    0,    0,    0,    0,    0,    0,    0,    0,    0,\n",
              "           0,    0,    0,    0,    0,    0,    0,    0,    0,    0,    0,\n",
              "           0,    0,    0,    0,    0,    0,    0,    0,    0,    0,    0,\n",
              "           0,    0,    0,    0,   13, 3672,    9,   13,    2,   42],\n",
              "       [   0,    0,    0,    0,    0,    0,    0,    0,    0,    0,    0,\n",
              "           0,    0,    0,    0,    0,    0,    0,    0,    0,    0,    0,\n",
              "           0,    0,    0,    0,    0,    0,    0,    0,    0,    0,    0,\n",
              "           0,    0,    0,    0,    0,    0,    0,    0,    0,    0,    0,\n",
              "           0,    0,    0,  206,   17,   69, 4764,  318,   98,  181,  571,\n",
              "          17,    9,  206,   31,   11,   29, 4145,   15,  149,   11,   74,\n",
              "          81,  853, 1255,   15,   98,    4,    2,   42,    2,    6],\n",
              "       [   0,    0,    0,    0,    0,    0,    0,    0,    0,    0,    0,\n",
              "           0,    0,    0,    0,    0,    0,    0,    0,    0,    0,    0,\n",
              "           0,    0,    0,    0,    0,    0,    0,    0,    0,    0,    0,\n",
              "           0,    0,    0,    0,    0,    0,    0,    0,    0,    0,    0,\n",
              "           0,    0,    0,    0,    0,    0,    0,    0,    0,    0,  215,\n",
              "          10, 1026,    3,   10,  446,  312, 2415, 1142, 2055,  642,    5,\n",
              "          85, 3982,  972,    4,   14,    9,  339,   18,  276,   42],\n",
              "       [   0,    0,    0,    0,    0,    0,    0,    0,    0,    0,    0,\n",
              "           0,    0,    0,    0,    0,    0,    0,    0,    0,    0,    0,\n",
              "           0,    0,    0,    0,    0,    0,    0,    0,    0,    0,    0,\n",
              "           0,    0,    0,    0,    0,    0,    0,    0,    0,    0,    0,\n",
              "           0,    0,    0,    0,    0,    0,    0,    0,  511,    4,    1,\n",
              "          18,  274,   94,  222,    3,    1,    9,   81,  847,  203,   20,\n",
              "          10, 1762,  281,   18,  276,   42,   39,    6,   11,    8],\n",
              "       [   0,    0,    0,    0,    0,    0,    0,    0,    0,    0,    0,\n",
              "           0,    0,    0,    0,    0,    0,    0,    0,    0,    0,    0,\n",
              "           0,    0,    0,    0,    0,    0,    0,    0,    0,    0,    0,\n",
              "           0,    0,    0,    0,    0,    0,    0,    0,    0,    0,    0,\n",
              "           0,    0,    0,  103,    1,  436, 1878,    3, 2946,    5,  527,\n",
              "          73,   97,   13,    1,  501,    3,   64,  639,  244,    4,  486,\n",
              "         467, 4765,   21,   70, 1788,    9, 2866,   42,  747, 1356]],\n",
              "      dtype=int32)"
            ]
          },
          "metadata": {},
          "execution_count": 12
        }
      ]
    },
    {
      "cell_type": "code",
      "source": [
        "model = Sequential()\n",
        "model.add(Embedding(5000, 256, input_length=X.shape[1]))\n",
        "model.add(Dropout(0.3))\n",
        "model.add(LSTM(256, return_sequences=True, dropout=0.3, recurrent_dropout=0.2))\n",
        "model.add(LSTM(256, dropout=0.3, recurrent_dropout=0.2))\n",
        "model.add(Dense(3, activation='softmax'))"
      ],
      "metadata": {
        "id": "1MsONDbAhWEi",
        "colab": {
          "base_uri": "https://localhost:8080/"
        },
        "outputId": "a51951c1-bd86-497d-8548-5d008dddbee4"
      },
      "execution_count": null,
      "outputs": [
        {
          "output_type": "stream",
          "name": "stdout",
          "text": [
            "WARNING:tensorflow:Layer lstm will not use cuDNN kernels since it doesn't meet the criteria. It will use a generic GPU kernel as fallback when running on GPU.\n",
            "WARNING:tensorflow:Layer lstm_1 will not use cuDNN kernels since it doesn't meet the criteria. It will use a generic GPU kernel as fallback when running on GPU.\n"
          ]
        }
      ]
    },
    {
      "cell_type": "code",
      "source": [
        "model.compile(loss='categorical_crossentropy', optimizer='adam', metrics=['accuracy'])\n",
        "model.summary()"
      ],
      "metadata": {
        "colab": {
          "base_uri": "https://localhost:8080/"
        },
        "id": "hzvqXpexhagm",
        "outputId": "0d29ded2-1e73-49ba-c113-b5f0e341c34e"
      },
      "execution_count": null,
      "outputs": [
        {
          "output_type": "stream",
          "name": "stdout",
          "text": [
            "Model: \"sequential\"\n",
            "_________________________________________________________________\n",
            " Layer (type)                Output Shape              Param #   \n",
            "=================================================================\n",
            " embedding (Embedding)       (None, 76, 256)           1280000   \n",
            "                                                                 \n",
            " dropout (Dropout)           (None, 76, 256)           0         \n",
            "                                                                 \n",
            " lstm (LSTM)                 (None, 76, 256)           525312    \n",
            "                                                                 \n",
            " lstm_1 (LSTM)               (None, 256)               525312    \n",
            "                                                                 \n",
            " dense (Dense)               (None, 3)                 771       \n",
            "                                                                 \n",
            "=================================================================\n",
            "Total params: 2,331,395\n",
            "Trainable params: 2,331,395\n",
            "Non-trainable params: 0\n",
            "_________________________________________________________________\n"
          ]
        }
      ]
    },
    {
      "cell_type": "code",
      "source": [
        "y = pd.get_dummies(data['Sentiment_text']).values\n",
        "[print(data['Sentiment_text'][i], y[i]) for i in range(0,5)]"
      ],
      "metadata": {
        "colab": {
          "base_uri": "https://localhost:8080/"
        },
        "id": "V_kTMznxhhYY",
        "outputId": "21f10437-e90a-4831-a107-ab41cb0c30fa"
      },
      "execution_count": null,
      "outputs": [
        {
          "output_type": "stream",
          "name": "stdout",
          "text": [
            "neutral [0 1 0]\n",
            "neutral [0 1 0]\n",
            "neutral [0 1 0]\n",
            "positive [0 0 1]\n",
            "negative [1 0 0]\n"
          ]
        },
        {
          "output_type": "execute_result",
          "data": {
            "text/plain": [
              "[None, None, None, None, None]"
            ]
          },
          "metadata": {},
          "execution_count": 15
        }
      ]
    },
    {
      "cell_type": "code",
      "source": [
        "from sklearn.model_selection import train_test_split\n",
        "\n",
        "X_train, X_test, y_train, y_test = train_test_split(X, y, test_size=0.2, random_state=0)"
      ],
      "metadata": {
        "id": "emuJ3hfGhpFQ"
      },
      "execution_count": null,
      "outputs": []
    },
    {
      "cell_type": "code",
      "source": [
        "batch_size = 32\n",
        "epochs = 8\n",
        "\n",
        "model.fit(X_train, y_train, epochs=epochs, batch_size=batch_size, verbose=2)"
      ],
      "metadata": {
        "colab": {
          "base_uri": "https://localhost:8080/"
        },
        "id": "AMwr6RfXi6Pq",
        "outputId": "ff048bbd-4470-4a97-faf4-31a8d6084b78"
      },
      "execution_count": null,
      "outputs": [
        {
          "output_type": "stream",
          "name": "stdout",
          "text": [
            "Epoch 1/8\n",
            "812/812 - 649s - loss: 0.5044 - accuracy: 0.8057 - 649s/epoch - 800ms/step\n",
            "Epoch 2/8\n",
            "812/812 - 637s - loss: 0.2382 - accuracy: 0.9303 - 637s/epoch - 785ms/step\n",
            "Epoch 3/8\n",
            "812/812 - 634s - loss: 0.1962 - accuracy: 0.9421 - 634s/epoch - 780ms/step\n",
            "Epoch 4/8\n",
            "812/812 - 636s - loss: 0.1629 - accuracy: 0.9511 - 636s/epoch - 783ms/step\n",
            "Epoch 5/8\n",
            "812/812 - 639s - loss: 0.1321 - accuracy: 0.9591 - 639s/epoch - 786ms/step\n",
            "Epoch 6/8\n",
            "812/812 - 637s - loss: 0.1086 - accuracy: 0.9661 - 637s/epoch - 785ms/step\n",
            "Epoch 7/8\n",
            "812/812 - 634s - loss: 0.0851 - accuracy: 0.9731 - 634s/epoch - 781ms/step\n",
            "Epoch 8/8\n",
            "812/812 - 631s - loss: 0.0665 - accuracy: 0.9794 - 631s/epoch - 777ms/step\n"
          ]
        },
        {
          "output_type": "execute_result",
          "data": {
            "text/plain": [
              "<keras.callbacks.History at 0x7fa660a36a10>"
            ]
          },
          "metadata": {},
          "execution_count": 17
        }
      ]
    },
    {
      "cell_type": "markdown",
      "source": [
        "2 hours 40 mins to run a cell"
      ],
      "metadata": {
        "id": "I6HV99iEzcgt"
      }
    },
    {
      "cell_type": "code",
      "source": [
        "model.save('sentiment_analysis.h5')"
      ],
      "metadata": {
        "id": "YRdeuCtXjHxs"
      },
      "execution_count": null,
      "outputs": []
    },
    {
      "cell_type": "code",
      "source": [
        "predictions = model.predict(X_test)\n",
        "\n",
        "[print(data['Clean tweet'][i], predictions[i], y_test[i]) for i in range(0, 5)]"
      ],
      "metadata": {
        "id": "QWGGzNn8jL0t",
        "colab": {
          "base_uri": "https://localhost:8080/"
        },
        "outputId": "bc933ddf-7b9c-49bf-ffa2-fa5e2c51059b"
      },
      "execution_count": null,
      "outputs": [
        {
          "output_type": "stream",
          "name": "stdout",
          "text": [
            "timothy snyder on tyranny and on ukraine \n",
            "  76nbdpdycw\n",
            "\n",
            "warinukraine [7.6081284e-04 3.4111752e-05 9.9920505e-01] [0 0 1]\n",
            "could ukrainian who stole humanitarian help still called ukrainian and could not russian be blamed for being russian if he sent billions for help to ukraine warinukraine ukraine ukrainewar [3.0008616e-04 3.4888420e-05 9.9966502e-01] [0 0 1]\n",
            "nazi  a member of a group advocating totalitarian government seeking territorial expansion antisemitist believe in his race supremacy leading to war and genocide putin putinwarcriminal warinukraine sh8a516sty [5.6100974e-04 4.1224212e-05 9.9939775e-01] [0 0 1]\n",
            "thanks to the putin im waking up because of the shellings and siren he liberated me from a normal life \n",
            "putin putinwarcriminal warinukraine standwithukraine ukrainewar russian russia [0.0023376  0.99510443 0.00255793] [0 1 0]\n",
            "russists destroyed the national museum of grigoriy skovoroda in skovorodynivka village kharkiv region on the night of may 7\n",
            "\n",
            "bastards want to destroy everything connected with our culture and memory\n",
            "\n",
            "warinukraine \n",
            "stoprussianow \n",
            "saveukraine \n",
            "saveukrainianhistory tyqq8bercs [1.8479455e-04 9.9938977e-01 4.2538816e-04] [0 1 0]\n"
          ]
        },
        {
          "output_type": "execute_result",
          "data": {
            "text/plain": [
              "[None, None, None, None, None]"
            ]
          },
          "metadata": {},
          "execution_count": 19
        }
      ]
    },
    {
      "cell_type": "code",
      "source": [
        "pos_count, neu_count, neg_count = 0, 0, 0\n",
        "real_pos, real_neu, real_neg = 0, 0, 0\n",
        "for i, prediction in enumerate(predictions):\n",
        "    if np.argmax(prediction)==2:\n",
        "        pos_count += 1\n",
        "    elif np.argmax(prediction)==1:\n",
        "        neu_count += 1\n",
        "    else:\n",
        "        neg_count += 1\n",
        "    \n",
        "    if np.argmax(y_test[i])==2:\n",
        "        real_pos += 1\n",
        "    elif np.argmax(y_test[i])==1:    \n",
        "        real_neu += 1\n",
        "    else:\n",
        "        real_neg +=1\n",
        "\n",
        "print('Positive predictions:', pos_count)\n",
        "print('Neutral predictions:', neu_count)\n",
        "print('Negative predictions:', neg_count)\n",
        "print('Real positive:', real_pos)\n",
        "print('Real neutral:', real_neu)\n",
        "print('Real negative:', real_neg)"
      ],
      "metadata": {
        "id": "Gi90-rnRjO7H",
        "colab": {
          "base_uri": "https://localhost:8080/"
        },
        "outputId": "50e78b9c-0ebb-4400-a222-4e2be7da16d4"
      },
      "execution_count": null,
      "outputs": [
        {
          "output_type": "stream",
          "name": "stdout",
          "text": [
            "Positive predictions: 2432\n",
            "Neutral predictions: 2674\n",
            "Negative predictions: 1387\n",
            "Real positive: 2387\n",
            "Real neutral: 2627\n",
            "Real negative: 1479\n"
          ]
        }
      ]
    },
    {
      "cell_type": "code",
      "source": [
        "!pip3 install keras_visualizer"
      ],
      "metadata": {
        "id": "nRVih_3ejSRC",
        "colab": {
          "base_uri": "https://localhost:8080/"
        },
        "outputId": "e23f38a4-17ef-4572-8e22-2ff033d48104"
      },
      "execution_count": null,
      "outputs": [
        {
          "output_type": "stream",
          "name": "stdout",
          "text": [
            "Requirement already satisfied: keras_visualizer in /usr/local/lib/python3.7/dist-packages (2.4)\n"
          ]
        }
      ]
    },
    {
      "cell_type": "code",
      "source": [
        "from keras_visualizer import visualizer "
      ],
      "metadata": {
        "id": "QjQDC_bj4JYE"
      },
      "execution_count": null,
      "outputs": []
    },
    {
      "cell_type": "code",
      "source": [
        "from keras.utils.vis_utils import plot_model"
      ],
      "metadata": {
        "id": "qVRHzyco4OT3"
      },
      "execution_count": null,
      "outputs": []
    },
    {
      "cell_type": "code",
      "source": [
        "model = load_model('sentiment_analysis.h5') \n",
        "plot_model(model)"
      ],
      "metadata": {
        "id": "3b5KCAhP4Vy8",
        "colab": {
          "base_uri": "https://localhost:8080/",
          "height": 599
        },
        "outputId": "44e95db4-7d5f-435e-c58d-e8015c0858fb"
      },
      "execution_count": null,
      "outputs": [
        {
          "output_type": "stream",
          "name": "stdout",
          "text": [
            "WARNING:tensorflow:Layer lstm will not use cuDNN kernels since it doesn't meet the criteria. It will use a generic GPU kernel as fallback when running on GPU.\n",
            "WARNING:tensorflow:Layer lstm_1 will not use cuDNN kernels since it doesn't meet the criteria. It will use a generic GPU kernel as fallback when running on GPU.\n"
          ]
        },
        {
          "output_type": "execute_result",
          "data": {
            "text/plain": [
              "<IPython.core.display.Image object>"
            ],
            "image/png": "[encoded data removed]"
          },
          "metadata": {},
          "execution_count": 42
        }
      ]
    },
    {
      "cell_type": "markdown",
      "source": [
        "#----------------------------------------------------------------------------------------"
      ],
      "metadata": {
        "id": "WqNhKSh8cb6Q"
      }
    },
    {
      "cell_type": "code",
      "source": [
        "visualizer(model, format='png', view=True)"
      ],
      "metadata": {
        "id": "dcvbv-m4ZLn5"
      },
      "execution_count": null,
      "outputs": []
    },
    {
      "cell_type": "code",
      "source": [
        ""
      ],
      "metadata": {
        "id": "ovNksEcMZxXV"
      },
      "execution_count": null,
      "outputs": []
    }
  ]
}